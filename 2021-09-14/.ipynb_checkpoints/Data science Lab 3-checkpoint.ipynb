{
 "cells": [
  {
   "cell_type": "markdown",
   "metadata": {},
   "source": [
    "# Data Science Lab 3 "
   ]
  },
  {
   "cell_type": "code",
   "execution_count": 73,
   "metadata": {},
   "outputs": [],
   "source": [
    "class Student:\n",
    "    def __init__(self,name,batch_no,address,courses=[],\n",
    "                 courses_scores=[{}]):\n",
    "        self.name = name\n",
    "        self.batch_no = batch_no\n",
    "        self.address = address\n",
    "        self.courses = courses\n",
    "        self.courses_scores = courses_scores\n",
    "        \n",
    "        \n",
    "    def set_name(self,name: str):\n",
    "        self.name = name \n",
    "    \n",
    "    def set_batch_no(self,batch_no:int):\n",
    "        self.batch_no = batch_no\n",
    "    \n",
    "    def set_courses(self,courses:list ):\n",
    "        self.courses = courses\n",
    "        \n",
    "    def set_address(self, address:str):\n",
    "        self.address = address\n",
    "\n",
    "    def set_courses_scores(self,courses_scores = [{}]):\n",
    "        for i in range(0,len(courses_scores)):\n",
    "            #print(courses_scores[i]['course'])\n",
    "            #print(self.get_courses())\n",
    "            if courses_scores[i]['course'] in self.get_courses():\n",
    "                #print(self.get_courses_scores())\n",
    "                self.courses_scores.append(courses_scores)\n",
    "            else:\n",
    "                print(\"Course doesnt exist in courses List Please add it in Courses\")\n",
    "                \n",
    "    def get_name(self):\n",
    "        return self.name\n",
    "\n",
    "    def get_batch_no(self):\n",
    "        return self.batch_no\n",
    "\n",
    "    def get_courses(self):\n",
    "        return self.courses\n",
    "    \n",
    "    def get_address(self):\n",
    "        return self.address\n",
    "    \n",
    "    def get_courses_scores(self):\n",
    "        return self.courses_scores\n",
    "        "
   ]
  },
  {
   "cell_type": "code",
   "execution_count": 74,
   "metadata": {},
   "outputs": [
    {
     "data": {
      "text/plain": [
       "[{},\n",
       " [{'course': 'datascience', 'marks': 30}, {'course': 'python', 'marks': 30}],\n",
       " [{'course': 'datascience', 'marks': 30}, {'course': 'python', 'marks': 30}]]"
      ]
     },
     "execution_count": 74,
     "metadata": {},
     "output_type": "execute_result"
    }
   ],
   "source": [
    "Student_no_1 = Student(\"Mohtshim Ali\",2,\"Data science\",\"ISB\")\n",
    "Student_no_1.set_courses(['datascience','python'])\n",
    "Student_no_1.get_courses()\n",
    "Student_no_1.set_courses_scores([{\"course\" : \"datascience\" ,\"marks\":30},{\"course\":\"python\",\"marks\":30}])\n",
    "Student_no_1.get_courses_scores()"
   ]
  },
  {
   "cell_type": "code",
   "execution_count": null,
   "metadata": {},
   "outputs": [],
   "source": []
  }
 ],
 "metadata": {
  "kernelspec": {
   "display_name": "Python 3",
   "language": "python",
   "name": "python3"
  },
  "language_info": {
   "codemirror_mode": {
    "name": "ipython",
    "version": 3
   },
   "file_extension": ".py",
   "mimetype": "text/x-python",
   "name": "python",
   "nbconvert_exporter": "python",
   "pygments_lexer": "ipython3",
   "version": "3.8.5"
  }
 },
 "nbformat": 4,
 "nbformat_minor": 4
}
