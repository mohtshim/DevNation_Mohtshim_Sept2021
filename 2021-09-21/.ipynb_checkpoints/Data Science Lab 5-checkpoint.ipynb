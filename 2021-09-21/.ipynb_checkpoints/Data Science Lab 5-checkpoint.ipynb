{
 "cells": [
  {
   "cell_type": "markdown",
   "metadata": {},
   "source": [
    "# Data Science Lab 5\n"
   ]
  },
  {
   "cell_type": "code",
   "execution_count": 53,
   "metadata": {},
   "outputs": [],
   "source": [
    "class Salary:\n",
    "    def __init__(self,montly_income,currency,type_cash_cheque):\n",
    "        self.montly_income = montly_income\n",
    "        self.currency = currency\n",
    "        self.type_cash_cheque =type_cash_cheque\n",
    "    \n",
    "    def set_montly_income(self,montly_income : float):\n",
    "        self.montly_income = montly_income\n",
    "    \n",
    "    def set_currency(self,currency : str):\n",
    "        self.currency = currency\n",
    "    \n",
    "    def set_type_cash_cheque(self,type_cash_cheque : str):\n",
    "        self.type_cash_cheque = type_cash_cheque\n",
    "        \n",
    "    def get_montly_income(self):\n",
    "        return self.montly_income\n",
    "    \n",
    "    def get_currency(self):\n",
    "        return self.currency\n",
    "    \n",
    "    def get_type_cash_cheque(self):\n",
    "        return self.type_cash_cheque\n",
    "    \n",
    "    def get_annual_income(self):\n",
    "        return self.annual_income\n",
    "        "
   ]
  },
  {
   "cell_type": "code",
   "execution_count": 54,
   "metadata": {},
   "outputs": [],
   "source": [
    "class Employee:\n",
    "    def __init__(self,montly_income,currency,type_cash_cheque,bonus,annual_income = None):\n",
    "        self.montly_income = montly_income\n",
    "        self.currency = currency\n",
    "        self.type_cash_cheque = type_cash_cheque\n",
    "        self.bonus = bonus\n",
    "        self.annual_income = annual_income\n",
    "        self.obj1 = Salary(montly_income,currency,type_cash_cheque)\n",
    "        \n",
    "    def set_total_annual_salary(self,total_annual_salary):\n",
    "        self.total_annual_salary = total_annual_salary+self.bonus\n",
    "        \n",
    "    def get_total_annual_salary(self):\n",
    "        print(\"Annual Salary is \"+ str(self.obj1.annual_income) + \"including \"+ self.bonus +\n",
    "              \"and the currency is \"+str(self.obj1.get_currency()))\n",
    "        "
   ]
  },
  {
   "cell_type": "code",
   "execution_count": 56,
   "metadata": {},
   "outputs": [
    {
     "ename": "AttributeError",
     "evalue": "'Salary' object has no attribute 'annual_income'",
     "output_type": "error",
     "traceback": [
      "\u001b[1;31m---------------------------------------------------------------------------\u001b[0m",
      "\u001b[1;31mAttributeError\u001b[0m                            Traceback (most recent call last)",
      "\u001b[1;32m<ipython-input-56-ab5bfc19386e>\u001b[0m in \u001b[0;36m<module>\u001b[1;34m\u001b[0m\n\u001b[0;32m      1\u001b[0m \u001b[0mobj2\u001b[0m \u001b[1;33m=\u001b[0m \u001b[0mEmployee\u001b[0m\u001b[1;33m(\u001b[0m\u001b[1;36m100\u001b[0m\u001b[1;33m,\u001b[0m\u001b[1;34m\"pkr\"\u001b[0m\u001b[1;33m,\u001b[0m\u001b[1;34m\"cash\"\u001b[0m\u001b[1;33m,\u001b[0m\u001b[1;36m100\u001b[0m\u001b[1;33m)\u001b[0m\u001b[1;33m\u001b[0m\u001b[1;33m\u001b[0m\u001b[0m\n\u001b[1;32m----> 2\u001b[1;33m \u001b[0mprint\u001b[0m\u001b[1;33m(\u001b[0m\u001b[0mobj2\u001b[0m\u001b[1;33m.\u001b[0m\u001b[0mget_total_annual_salary\u001b[0m\u001b[1;33m(\u001b[0m\u001b[1;33m)\u001b[0m\u001b[1;33m)\u001b[0m\u001b[1;33m\u001b[0m\u001b[1;33m\u001b[0m\u001b[0m\n\u001b[0m",
      "\u001b[1;32m<ipython-input-54-932317ebac8c>\u001b[0m in \u001b[0;36mget_total_annual_salary\u001b[1;34m(self)\u001b[0m\n\u001b[0;32m     12\u001b[0m \u001b[1;33m\u001b[0m\u001b[0m\n\u001b[0;32m     13\u001b[0m     \u001b[1;32mdef\u001b[0m \u001b[0mget_total_annual_salary\u001b[0m\u001b[1;33m(\u001b[0m\u001b[0mself\u001b[0m\u001b[1;33m)\u001b[0m\u001b[1;33m:\u001b[0m\u001b[1;33m\u001b[0m\u001b[1;33m\u001b[0m\u001b[0m\n\u001b[1;32m---> 14\u001b[1;33m         print(\"Annual Salary is \"+ str(self.obj1.annual_income) + \"including \"+ str(5/100*self.obj1.annual_income)+\n\u001b[0m\u001b[0;32m     15\u001b[0m               \"and the currency is \"+str(self.obj1.get_currency()) )\n\u001b[0;32m     16\u001b[0m \u001b[1;33m\u001b[0m\u001b[0m\n",
      "\u001b[1;31mAttributeError\u001b[0m: 'Salary' object has no attribute 'annual_income'"
     ]
    }
   ],
   "source": [
    "obj2 = Employee(100,\"pkr\",\"cash\",100)\n",
    "print(obj2.get_total_annual_salary())"
   ]
  },
  {
   "cell_type": "code",
   "execution_count": null,
   "metadata": {},
   "outputs": [],
   "source": []
  }
 ],
 "metadata": {
  "kernelspec": {
   "display_name": "Python 3",
   "language": "python",
   "name": "python3"
  },
  "language_info": {
   "codemirror_mode": {
    "name": "ipython",
    "version": 3
   },
   "file_extension": ".py",
   "mimetype": "text/x-python",
   "name": "python",
   "nbconvert_exporter": "python",
   "pygments_lexer": "ipython3",
   "version": "3.8.5"
  }
 },
 "nbformat": 4,
 "nbformat_minor": 4
}
