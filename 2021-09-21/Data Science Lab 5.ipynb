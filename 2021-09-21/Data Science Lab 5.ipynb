{
 "cells": [
  {
   "cell_type": "markdown",
   "metadata": {},
   "source": [
    "# Data Science Lab 5\n"
   ]
  },
  {
   "cell_type": "code",
   "execution_count": 87,
   "metadata": {},
   "outputs": [],
   "source": [
    "class Salary:\n",
    "    def __init__(self,montly_income,currency,type_cash_cheque):\n",
    "        self.montly_income = montly_income\n",
    "        self.currency = currency\n",
    "        self.type_cash_cheque =type_cash_cheque\n",
    "    \n",
    "    def set_montly_income(self,montly_income : float):\n",
    "        self.montly_income = montly_income\n",
    "    \n",
    "    def set_currency(self,currency : str):\n",
    "        self.currency = currency\n",
    "    \n",
    "    def set_type_cash_cheque(self,type_cash_cheque : str):\n",
    "        self.type_cash_cheque = type_cash_cheque\n",
    "        \n",
    "    def get_montly_income(self):\n",
    "        return self.montly_income\n",
    "    \n",
    "    def get_currency(self):\n",
    "        return self.currency\n",
    "    \n",
    "    def get_type_cash_cheque(self):\n",
    "        return self.type_cash_cheque\n",
    "    \n",
    "    def get_annual_income(self):\n",
    "        return self.annual_income\n",
    "        "
   ]
  },
  {
   "cell_type": "code",
   "execution_count": 88,
   "metadata": {},
   "outputs": [],
   "source": [
    "class Employee:\n",
    "    def __init__(self,montly_income,currency,type_cash_cheque,bonus,annual_income = None):\n",
    "        self.montly_income = montly_income\n",
    "        self.currency = currency\n",
    "        self.type_cash_cheque = type_cash_cheque\n",
    "        self.bonus = bonus\n",
    "        self.annual_income = annual_income\n",
    "        self.obj1 = Salary(montly_income,currency,type_cash_cheque)\n",
    "        \n",
    "    def set_total_annual_salary(self,total_annual_salary):\n",
    "        self.annual_income = total_annual_salary+self.bonus\n",
    "        \n",
    "    def get_total_annual_salary(self):\n",
    "        print(\"Annual Salary is \"+ str(self.annual_income) + \" including \"+ str(self.bonus) +\n",
    "              \" bonus and the currency is \"+self.obj1.get_currency())\n",
    "        "
   ]
  },
  {
   "cell_type": "code",
   "execution_count": 89,
   "metadata": {},
   "outputs": [
    {
     "name": "stdout",
     "output_type": "stream",
     "text": [
      "Annual Salary is 50000 including 2500 bonus and the currency is pkr\n",
      "None\n"
     ]
    }
   ],
   "source": [
    "obj2 = Employee(5000,\"pkr\",\"cash\",2500,50000)\n",
    "print(obj2.get_total_annual_salary())"
   ]
  },
  {
   "cell_type": "code",
   "execution_count": null,
   "metadata": {},
   "outputs": [],
   "source": []
  }
 ],
 "metadata": {
  "kernelspec": {
   "display_name": "Python 3",
   "language": "python",
   "name": "python3"
  },
  "language_info": {
   "codemirror_mode": {
    "name": "ipython",
    "version": 3
   },
   "file_extension": ".py",
   "mimetype": "text/x-python",
   "name": "python",
   "nbconvert_exporter": "python",
   "pygments_lexer": "ipython3",
   "version": "3.8.5"
  }
 },
 "nbformat": 4,
 "nbformat_minor": 4
}
