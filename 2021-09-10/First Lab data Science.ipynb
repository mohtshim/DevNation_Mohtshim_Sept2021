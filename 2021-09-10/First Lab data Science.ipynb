{
 "cells": [
  {
   "cell_type": "code",
   "execution_count": 52,
   "metadata": {},
   "outputs": [
    {
     "name": "stdout",
     "output_type": "stream",
     "text": [
      "6\n"
     ]
    }
   ],
   "source": [
    "#Question no 1\n",
    "from datetime import date\n",
    "\n",
    "def get_date(number_of_days):\n",
    "    d =date.today()\n",
    "    current_date = d.day\n",
    "    if(number_of_days%2==0):\n",
    "        return current_date-number_of_days\n",
    "    else:\n",
    "        return current_date+number_of_days\n",
    "    \n",
    "print (get_date(4))"
   ]
  },
  {
   "cell_type": "code",
   "execution_count": 12,
   "metadata": {},
   "outputs": [
    {
     "name": "stdout",
     "output_type": "stream",
     "text": [
      "[['d', 'e', 'v', 'n', 'a', 't', 'i', 'o', 'n'], ['d', 'a', 't', 'a', ' ', 's', 'c', 'i', 'e', 'n', 'c', 'e'], ['r', 'e', 'q', 'u', 'i', 'r', 'e', 's'], ['d', 'e', 'd', 'i', 'c', 'a', 't', 'i', 'o', 'n']]\n"
     ]
    }
   ],
   "source": [
    "#Question no 2\n",
    "\n",
    "def Stringify(word):\n",
    "    text_list = list(word)\n",
    "    return text_list\n",
    "\n",
    "x = map(Stringify,('devnation', 'data science', 'requires', 'dedication'))\n",
    "print(list(x))"
   ]
  },
  {
   "cell_type": "code",
   "execution_count": 29,
   "metadata": {},
   "outputs": [
    {
     "name": "stdout",
     "output_type": "stream",
     "text": [
      "['F', 'f', 'B', 'b', 'A', 'a']\n"
     ]
    }
   ],
   "source": [
    "#Question no 3\n",
    "def Stringcase(mylist):\n",
    "    for i in range(len(mylist)):\n",
    "        tempchar = mylist[i]\n",
    "        if(tempchar.islower()):\n",
    "            captempchar = tempchar.upper()\n",
    "            mylistupdated.append(captempchar)\n",
    "            mylistupdated.append(tempchar)\n",
    "        else:\n",
    "            continue\n",
    "    return mylistupdated\n",
    "            \n",
    "mylist = ['f','b','a','a']\n",
    "mylistupdated = []\n",
    "Stringcase(mylist)\n",
    "unique_tuples = []\n",
    "for i in mylistupdated:\n",
    "    if i not in unique_tuples:\n",
    "        unique_tuples.append(i)\n",
    "    else:\n",
    "        continue\n",
    "print(unique_tuples)"
   ]
  },
  {
   "cell_type": "code",
   "execution_count": null,
   "metadata": {},
   "outputs": [],
   "source": [
    "#Question no 4\n",
    "\n",
    "def str_join(mylist,word):   \n",
    "    x = map(lambda x:x+word,mylist)\n",
    "    print(list(x))\n",
    "\n",
    "mylist= ['a','b','c']\n",
    "word = '@'\n",
    "str_join(mylist,word)\n",
    "\n"
   ]
  },
  {
   "cell_type": "markdown",
   "metadata": {},
   "source": [
    "Q5. Write a function get_city_mpg_avg, that groups the cars by number of cylinders, and finding the average cty mpg for each group.\n",
    "Output should be in the list of tuples\n",
    "Output = [ (5,20),(4,18),(3,16) ]\n",
    "Note:\n",
    "1. Use MPG.csv file\n",
    "2. First index of tuple shows the number of cylinders and second index shows the average\n",
    "3. Result should be sorted by first tuple index by using lambda functions"
   ]
  },
  {
   "cell_type": "code",
   "execution_count": 12,
   "metadata": {},
   "outputs": [
    {
     "name": "stdout",
     "output_type": "stream",
     "text": [
      "['6', '8', '5', '4']\n",
      "[('6', 16.21518987341772), ('8', 12.571428571428571), ('5', 20.5), ('4', 21.012345679012345)]\n"
     ]
    }
   ],
   "source": [
    "#Question no 5\n",
    "# function --> get_city_mpg_avg()\n",
    "# read file\n",
    "\n",
    "#Method no 1:\n",
    "import csv\n",
    "def dist_cylinders(mpg):\n",
    "    cyl = []\n",
    "    for i in mpg:\n",
    "        cyl.append(i['cyl'])\n",
    "    \n",
    "    return list(set(cyl))\n",
    "\n",
    "def get_city_mpg_avg():\n",
    "    with open('mpg.csv') as csvfile:\n",
    "        mpg = list(csv.DictReader(csvfile))\n",
    "        \n",
    "    cyl = dist_cylinders(mpg)\n",
    "    print(cyl)\n",
    "    result = []\n",
    "    for c in cyl:\n",
    "        sum_of_mlg = 0\n",
    "        count_vech = 0\n",
    "        for i in mpg:\n",
    "            if i['cyl'] == c:\n",
    "                sum_of_mlg = sum_of_mlg + float(i['cty'])\n",
    "                count_vech += 1\n",
    "        result.append((c,sum_of_mlg/count_vech))\n",
    "    return result\n",
    "\n",
    "print(get_city_mpg_avg())\n",
    "\n",
    "\n",
    "#Method no 2:\n",
    "#import pandas as pd\n",
    "#data = pd.read_csv('mpg.csv')\n",
    "#data.pop('manufacturer')\n",
    "#data.pop('model')\n",
    "#data.pop('displ')\n",
    "#data.pop('year')\n",
    "#data.pop('trans')\n",
    "#data.pop('drv')\n",
    "#data.pop('hwy')\n",
    "#data.pop('fl')\n",
    "#data.pop('class')\n",
    "\n",
    "#grouped_data = data.groupby('cyl')\n",
    "#avg_data = grouped_data.mean()\n",
    "#avg_data = avg_data.reset_index()\n",
    "#print(list(grouped_data))"
   ]
  },
  {
   "cell_type": "markdown",
   "metadata": {},
   "source": [
    "Q6. Write a function find_indexes(list,int) takes a list and integer value, if the value exists in the list return the list containing all the index where that integer exists else return “value don’t exist”\n"
   ]
  },
  {
   "cell_type": "code",
   "execution_count": 75,
   "metadata": {
    "scrolled": true
   },
   "outputs": [
    {
     "name": "stdout",
     "output_type": "stream",
     "text": [
      "[0, 5]\n"
     ]
    }
   ],
   "source": [
    "#Question no 6\n",
    "def find_indexes(mylist,int_val):\n",
    "    list_index = []\n",
    "    for i in range(len(mylist)+1):\n",
    "        #print(\"Value of i is \",i)\n",
    "        if int_val in mylist:\n",
    "            index = mylist.index(int_val)\n",
    "            list_index.append(index)\n",
    "            mylist[index] = 'garbage' # so that first element doesnt count and remaining ones in the list gets counted\n",
    "        else:\n",
    "            continue\n",
    "    if list_index:\n",
    "        return list_index\n",
    "    else:\n",
    "        return \"Values doesnt Exist\"\n",
    "   \n",
    "\n",
    "mylist = [1,2,3,4,5,1,2]\n",
    "int_val = 1\n",
    "print(find_indexes(mylist,int_val))"
   ]
  },
  {
   "cell_type": "code",
   "execution_count": 5,
   "metadata": {},
   "outputs": [
    {
     "name": "stdout",
     "output_type": "stream",
     "text": [
      "Enter number of elements : 3\n",
      "address\n",
      "addressCountry\n",
      "name\n",
      "address\n",
      "At this stage returnvalue is  {'@type': 'PostalAddress', 'streetAddress': '1043 Tairua Whitianga Road Sh25', 'addressLocality': 'Whenuakite', 'addressRegion': 'North Island', 'postalCode': '3591', 'addressCountry': {'@type': 'Country', 'name': 'New Zealand'}}\n",
      "addressCountry\n",
      "At this stage returnvalue is  {'@type': 'Country', 'name': 'New Zealand'}\n",
      "name\n",
      "At this stage returnvalue is  New Zealand\n"
     ]
    },
    {
     "data": {
      "text/plain": [
       "'New Zealand'"
      ]
     },
     "execution_count": 5,
     "metadata": {},
     "output_type": "execute_result"
    }
   ],
   "source": [
    "def get_data_from_dict(mydict,mylist):\n",
    "    length = len(mylist)\n",
    "    for i in range(0,length):\n",
    "        print(mylist[i])\n",
    "        if mylist[i] in mydict:\n",
    "            mydict = mydict[mylist[i]]\n",
    "            print(\"At this stage returnvalue is \",mydict)\n",
    "        else:\n",
    "            return(print(\"Value doesnt exist\"))\n",
    "            \n",
    "    \n",
    "    return mydict\n",
    "\n",
    "dictionary = {\"@context\":\"http:\\u002F\\u002Fschema.org\",\n",
    "              \"@type\":\"LodgingBusiness\",\n",
    "        \"name\":\"Seabreeze Holiday Park\",\n",
    "        \"url\":\"\\u002FHotel_Review-g4475485-d2207450-Reviews-Seabreeze_Holiday_Park-Whenuakite_Coromandel_Peninsula_Waikato_Region_North_Island.html\",\n",
    "        \"image\":\"https:\\u002F\\u002Fmedia-cdn.tripadvisor.com\\u002Fmedia\\u002Fphoto-s\\u002F09\\u002F66\\u002Fa0\\u002F92\\u002Fseabreeze-holiday-park.jpg\",\n",
    "        \"priceRange\":\"$ (Based on Average Nightly Rates for a Standard Room from our Partners)\",\n",
    "        \"aggregateRating\":{\"@type\":\"AggregateRating\",\n",
    "                           \"ratingValue\":\"3.5\",\n",
    "                           \"reviewCount\":\"152\"},\n",
    "        \"address\":{\"@type\":\"PostalAddress\",\n",
    "                   \"streetAddress\":\"1043 Tairua Whitianga Road Sh25\",\n",
    "                   \"addressLocality\":\"Whenuakite\",\n",
    "                   \"addressRegion\":\"North Island\",\n",
    "                   \"postalCode\":\"3591\",\n",
    "                   \"addressCountry\":{\"@type\":\"Country\",\n",
    "                                     \"name\":\"New Zealand\"}\n",
    "                  }\n",
    "       }\n",
    "#x = mydict.keys()\n",
    "#x = mydict.values()\n",
    "# creating an empty list\n",
    "lst = []\n",
    "# number of elements as input\n",
    "n = int(input(\"Enter number of elements you want to pass on the list: \"))\n",
    "# iterating till the range\n",
    "for i in range(0, n):\n",
    "    ele = str(input())\n",
    "    lst.append(ele) # adding the element\n",
    "    \n",
    "get_data_from_dict(dictionary,lst)"
   ]
  },
  {
   "cell_type": "markdown",
   "metadata": {},
   "source": [
    "##### "
   ]
  }
 ],
 "metadata": {
  "kernelspec": {
   "display_name": "Python 3",
   "language": "python",
   "name": "python3"
  },
  "language_info": {
   "codemirror_mode": {
    "name": "ipython",
    "version": 3
   },
   "file_extension": ".py",
   "mimetype": "text/x-python",
   "name": "python",
   "nbconvert_exporter": "python",
   "pygments_lexer": "ipython3",
   "version": "3.8.5"
  }
 },
 "nbformat": 4,
 "nbformat_minor": 4
}
