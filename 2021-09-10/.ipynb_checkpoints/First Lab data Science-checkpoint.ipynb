{
 "cells": [
  {
   "cell_type": "code",
   "execution_count": 52,
   "metadata": {},
   "outputs": [
    {
     "name": "stdout",
     "output_type": "stream",
     "text": [
      "6\n"
     ]
    }
   ],
   "source": [
    "#Question no 1\n",
    "from datetime import date\n",
    "\n",
    "def get_date(number_of_days):\n",
    "    d =date.today()\n",
    "    current_date = d.day\n",
    "    if(number_of_days%2==0):\n",
    "        return current_date-number_of_days\n",
    "    else:\n",
    "        return current_date+number_of_days\n",
    "    \n",
    "print (get_date(4))"
   ]
  },
  {
   "cell_type": "code",
   "execution_count": 12,
   "metadata": {},
   "outputs": [
    {
     "name": "stdout",
     "output_type": "stream",
     "text": [
      "[['d', 'e', 'v', 'n', 'a', 't', 'i', 'o', 'n'], ['d', 'a', 't', 'a', ' ', 's', 'c', 'i', 'e', 'n', 'c', 'e'], ['r', 'e', 'q', 'u', 'i', 'r', 'e', 's'], ['d', 'e', 'd', 'i', 'c', 'a', 't', 'i', 'o', 'n']]\n"
     ]
    }
   ],
   "source": [
    "#Question no 2\n",
    "\n",
    "def Stringify(word):\n",
    "    text_list = list(word)\n",
    "    return text_list\n",
    "\n",
    "x = map(Stringify,('devnation', 'data science', 'requires', 'dedication'))\n",
    "print(list(x))"
   ]
  },
  {
   "cell_type": "code",
   "execution_count": 29,
   "metadata": {},
   "outputs": [
    {
     "name": "stdout",
     "output_type": "stream",
     "text": [
      "['F', 'f', 'B', 'b', 'A', 'a']\n"
     ]
    }
   ],
   "source": [
    "#Question no 3\n",
    "def Stringcase(mylist):\n",
    "    for i in range(len(mylist)):\n",
    "        tempchar = mylist[i]\n",
    "        if(tempchar.islower()):\n",
    "            captempchar = tempchar.upper()\n",
    "            mylistupdated.append(captempchar)\n",
    "            mylistupdated.append(tempchar)\n",
    "        else:\n",
    "            continue\n",
    "    return mylistupdated\n",
    "            \n",
    "mylist = ['f','b','a','a']\n",
    "mylistupdated = []\n",
    "Stringcase(mylist)\n",
    "unique_tuples = []\n",
    "for i in mylistupdated:\n",
    "    if i not in unique_tuples:\n",
    "        unique_tuples.append(i)\n",
    "    else:\n",
    "        continue\n",
    "print(unique_tuples)"
   ]
  },
  {
   "cell_type": "code",
   "execution_count": null,
   "metadata": {},
   "outputs": [],
   "source": [
    "#Question no 4\n",
    "\n",
    "def str_join(mylist,word):   \n",
    "    x = map(lambda x:x+word,mylist)\n",
    "    print(list(x))\n",
    "\n",
    "mylist= ['a','b','c']\n",
    "word = '@'\n",
    "str_join(mylist,word)\n",
    "\n"
   ]
  },
  {
   "cell_type": "markdown",
   "metadata": {},
   "source": [
    "Q5. Write a function get_city_mpg_avg, that groups the cars by number of cylinders, and finding the average cty mpg for each group.\n",
    "Output should be in the list of tuples\n",
    "Output = [ (5,20),(4,18),(3,16) ]\n",
    "Note:\n",
    "1. Use MPG.csv file\n",
    "2. First index of tuple shows the number of cylinders and second index shows the average\n",
    "3. Result should be sorted by first tuple index by using lambda functions"
   ]
  },
  {
   "cell_type": "code",
   "execution_count": 79,
   "metadata": {},
   "outputs": [
    {
     "name": "stdout",
     "output_type": "stream",
     "text": [
      "[(4,      Unnamed: 0  cyl  cty\n",
      "0             1    4   18\n",
      "1             2    4   21\n",
      "2             3    4   20\n",
      "3             4    4   21\n",
      "7             8    4   18\n",
      "..          ...  ...  ...\n",
      "224         225    4   19\n",
      "227         228    4   21\n",
      "228         229    4   18\n",
      "229         230    4   19\n",
      "230         231    4   21\n",
      "\n",
      "[81 rows x 3 columns]), (5,      Unnamed: 0  cyl  cty\n",
      "217         218    5   21\n",
      "218         219    5   21\n",
      "225         226    5   20\n",
      "226         227    5   20), (6,      Unnamed: 0  cyl  cty\n",
      "4             5    6   16\n",
      "5             6    6   18\n",
      "6             7    6   18\n",
      "11           12    6   15\n",
      "12           13    6   17\n",
      "..          ...  ...  ...\n",
      "219         220    6   16\n",
      "220         221    6   17\n",
      "231         232    6   16\n",
      "232         233    6   18\n",
      "233         234    6   17\n",
      "\n",
      "[79 rows x 3 columns]), (8,      Unnamed: 0  cyl  cty\n",
      "17           18    8   16\n",
      "18           19    8   14\n",
      "19           20    8   11\n",
      "20           21    8   14\n",
      "21           22    8   13\n",
      "..          ...  ...  ...\n",
      "153         154    8   12\n",
      "158         159    8   16\n",
      "178         179    8   14\n",
      "198         199    8   11\n",
      "199         200    8   13\n",
      "\n",
      "[70 rows x 3 columns])]\n"
     ]
    }
   ],
   "source": [
    "#This question is not done right now\n",
    "#Question no 5\n",
    "# function --> get_city_mpg_avg()\n",
    "# read file\n",
    "\n",
    "import pandas as pd\n",
    "data = pd.read_csv('mpg.csv')\n",
    "data.pop('manufacturer')\n",
    "data.pop('model')\n",
    "data.pop('displ')\n",
    "data.pop('year')\n",
    "data.pop('trans')\n",
    "data.pop('drv')\n",
    "data.pop('hwy')\n",
    "data.pop('fl')\n",
    "data.pop('class')\n",
    "\n",
    "grouped_data = data.groupby('cyl')\n",
    "avg_data = \n"
   ]
  },
  {
   "cell_type": "markdown",
   "metadata": {},
   "source": [
    "Q6. Write a function find_indexes(list,int) takes a list and integer value, if the value exists in the list return the list containing all the index where that integer exists else return “value don’t exist”\n"
   ]
  },
  {
   "cell_type": "code",
   "execution_count": 75,
   "metadata": {
    "scrolled": true
   },
   "outputs": [
    {
     "name": "stdout",
     "output_type": "stream",
     "text": [
      "[0, 5]\n"
     ]
    }
   ],
   "source": [
    "#Question no 6\n",
    "def find_indexes(mylist,int_val):\n",
    "    list_index = []\n",
    "    for i in range(len(mylist)+1):\n",
    "        #print(\"Value of i is \",i)\n",
    "        if int_val in mylist:\n",
    "            index = mylist.index(int_val)\n",
    "            list_index.append(index)\n",
    "            mylist[index] = 'garbage' # so that first element doesnt count and remaining ones in the list gets counted\n",
    "        else:\n",
    "            continue\n",
    "    if list_index:\n",
    "        return list_index\n",
    "    else:\n",
    "        return \"Values doesnt Exist\"\n",
    "   \n",
    "\n",
    "mylist = [1,2,3,4,5,1,2]\n",
    "int_val = 1\n",
    "print(find_indexes(mylist,int_val))"
   ]
  },
  {
   "cell_type": "code",
   "execution_count": 68,
   "metadata": {},
   "outputs": [
    {
     "data": {
      "text/plain": [
       "int"
      ]
     },
     "execution_count": 68,
     "metadata": {},
     "output_type": "execute_result"
    }
   ],
   "source": []
  },
  {
   "cell_type": "code",
   "execution_count": null,
   "metadata": {},
   "outputs": [],
   "source": []
  }
 ],
 "metadata": {
  "kernelspec": {
   "display_name": "Python 3",
   "language": "python",
   "name": "python3"
  },
  "language_info": {
   "codemirror_mode": {
    "name": "ipython",
    "version": 3
   },
   "file_extension": ".py",
   "mimetype": "text/x-python",
   "name": "python",
   "nbconvert_exporter": "python",
   "pygments_lexer": "ipython3",
   "version": "3.8.5"
  }
 },
 "nbformat": 4,
 "nbformat_minor": 4
}
