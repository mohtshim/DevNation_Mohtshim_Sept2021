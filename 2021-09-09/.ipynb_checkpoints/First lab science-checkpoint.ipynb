{
 "cells": [
  {
   "cell_type": "code",
   "execution_count": 52,
   "metadata": {},
   "outputs": [
    {
     "name": "stdout",
     "output_type": "stream",
     "text": [
      "6\n"
     ]
    }
   ],
   "source": [
    "#Question no 1\n",
    "from datetime import date\n",
    "\n",
    "def get_date(number_of_days):\n",
    "    d =date.today()\n",
    "    current_date = d.day\n",
    "    if(number_of_days%2==0):\n",
    "        return current_date-number_of_days\n",
    "    else:\n",
    "        return current_date+number_of_days\n",
    "    \n",
    "print (get_date(4))"
   ]
  },
  {
   "cell_type": "code",
   "execution_count": 12,
   "metadata": {},
   "outputs": [
    {
     "name": "stdout",
     "output_type": "stream",
     "text": [
      "[['d', 'e', 'v', 'n', 'a', 't', 'i', 'o', 'n'], ['d', 'a', 't', 'a', ' ', 's', 'c', 'i', 'e', 'n', 'c', 'e'], ['r', 'e', 'q', 'u', 'i', 'r', 'e', 's'], ['d', 'e', 'd', 'i', 'c', 'a', 't', 'i', 'o', 'n']]\n"
     ]
    }
   ],
   "source": [
    "#Question no 2\n",
    "\n",
    "def Stringify(word):\n",
    "    text_list = list(word)\n",
    "    return text_list\n",
    "\n",
    "x = map(Stringify,('devnation', 'data science', 'requires', 'dedication'))\n",
    "print(list(x))"
   ]
  },
  {
   "cell_type": "code",
   "execution_count": 29,
   "metadata": {},
   "outputs": [
    {
     "name": "stdout",
     "output_type": "stream",
     "text": [
      "['F', 'f', 'B', 'b', 'A', 'a']\n"
     ]
    }
   ],
   "source": [
    "#Question no 3\n",
    "def Stringcase(mylist):\n",
    "    for i in range(len(mylist)):\n",
    "        tempchar = mylist[i]\n",
    "        if(tempchar.islower()):\n",
    "            captempchar = tempchar.upper()\n",
    "            mylistupdated.append(captempchar)\n",
    "            mylistupdated.append(tempchar)\n",
    "        else:\n",
    "            continue\n",
    "    return mylistupdated\n",
    "            \n",
    "mylist = ['f','b','a','a']\n",
    "mylistupdated = []\n",
    "Stringcase(mylist)\n",
    "unique_tuples = []\n",
    "for i in mylistupdated:\n",
    "    if i not in unique_tuples:\n",
    "        unique_tuples.append(i)\n",
    "    else:\n",
    "        continue\n",
    "print(unique_tuples)"
   ]
  },
  {
   "cell_type": "code",
   "execution_count": null,
   "metadata": {},
   "outputs": [],
   "source": [
    "#Question no 4\n",
    "\n",
    "def str_join(mylist,word):   \n",
    "    x = map(lambda x:x+word,mylist)\n",
    "    print(list(x))\n",
    "\n",
    "mylist= ['a','b','c']\n",
    "word = '@'\n",
    "str_join(mylist,word)\n",
    "\n"
   ]
  },
  {
   "cell_type": "markdown",
   "metadata": {},
   "source": [
    "Q5. Write a function get_city_mpg_avg, that groups the cars by number of cylinders, and finding the average cty mpg for each group.\n",
    "Output should be in the list of tuples\n",
    "Output = [ (5,20),(4,18),(3,16) ]\n",
    "Note:\n",
    "1. Use MPG.csv file\n",
    "2. First index of tuple shows the number of cylinders and second index shows the average\n",
    "3. Result should be sorted by first tuple index by using lambda functions"
   ]
  },
  {
   "cell_type": "code",
   "execution_count": 47,
   "metadata": {},
   "outputs": [
    {
     "name": "stdout",
     "output_type": "stream",
     "text": [
      "[(4,      Unnamed: 0 manufacturer       model  displ  year  cyl       trans drv  \\\n",
      "0             1         audi          a4    1.8  1999    4    auto(l5)   f   \n",
      "1             2         audi          a4    1.8  1999    4  manual(m5)   f   \n",
      "2             3         audi          a4    2.0  2008    4  manual(m6)   f   \n",
      "3             4         audi          a4    2.0  2008    4    auto(av)   f   \n",
      "7             8         audi  a4 quattro    1.8  1999    4  manual(m5)   4   \n",
      "..          ...          ...         ...    ...   ...  ...         ...  ..   \n",
      "224         225   volkswagen  new beetle    2.0  1999    4    auto(l4)   f   \n",
      "227         228   volkswagen      passat    1.8  1999    4  manual(m5)   f   \n",
      "228         229   volkswagen      passat    1.8  1999    4    auto(l5)   f   \n",
      "229         230   volkswagen      passat    2.0  2008    4    auto(s6)   f   \n",
      "230         231   volkswagen      passat    2.0  2008    4  manual(m6)   f   \n",
      "\n",
      "     cty  hwy fl       class  \n",
      "0     18   29  p     compact  \n",
      "1     21   29  p     compact  \n",
      "2     20   31  p     compact  \n",
      "3     21   30  p     compact  \n",
      "7     18   26  p     compact  \n",
      "..   ...  ... ..         ...  \n",
      "224   19   26  r  subcompact  \n",
      "227   21   29  p     midsize  \n",
      "228   18   29  p     midsize  \n",
      "229   19   28  p     midsize  \n",
      "230   21   29  p     midsize  \n",
      "\n",
      "[81 rows x 12 columns]), (5,      Unnamed: 0 manufacturer       model  displ  year  cyl       trans drv  \\\n",
      "217         218   volkswagen       jetta    2.5  2008    5    auto(s6)   f   \n",
      "218         219   volkswagen       jetta    2.5  2008    5  manual(m5)   f   \n",
      "225         226   volkswagen  new beetle    2.5  2008    5  manual(m5)   f   \n",
      "226         227   volkswagen  new beetle    2.5  2008    5    auto(s6)   f   \n",
      "\n",
      "     cty  hwy fl       class  \n",
      "217   21   29  r     compact  \n",
      "218   21   29  r     compact  \n",
      "225   20   28  r  subcompact  \n",
      "226   20   29  r  subcompact  ), (6,      Unnamed: 0 manufacturer       model  displ  year  cyl       trans drv  \\\n",
      "4             5         audi          a4    2.8  1999    6    auto(l5)   f   \n",
      "5             6         audi          a4    2.8  1999    6  manual(m5)   f   \n",
      "6             7         audi          a4    3.1  2008    6    auto(av)   f   \n",
      "11           12         audi  a4 quattro    2.8  1999    6    auto(l5)   4   \n",
      "12           13         audi  a4 quattro    2.8  1999    6  manual(m5)   4   \n",
      "..          ...          ...         ...    ...   ...  ...         ...  ..   \n",
      "219         220   volkswagen       jetta    2.8  1999    6    auto(l4)   f   \n",
      "220         221   volkswagen       jetta    2.8  1999    6  manual(m5)   f   \n",
      "231         232   volkswagen      passat    2.8  1999    6    auto(l5)   f   \n",
      "232         233   volkswagen      passat    2.8  1999    6  manual(m5)   f   \n",
      "233         234   volkswagen      passat    3.6  2008    6    auto(s6)   f   \n",
      "\n",
      "     cty  hwy fl    class  \n",
      "4     16   26  p  compact  \n",
      "5     18   26  p  compact  \n",
      "6     18   27  p  compact  \n",
      "11    15   25  p  compact  \n",
      "12    17   25  p  compact  \n",
      "..   ...  ... ..      ...  \n",
      "219   16   23  r  compact  \n",
      "220   17   24  r  compact  \n",
      "231   16   26  p  midsize  \n",
      "232   18   26  p  midsize  \n",
      "233   17   26  p  midsize  \n",
      "\n",
      "[79 rows x 12 columns]), (8,      Unnamed: 0 manufacturer                   model  displ  year  cyl  \\\n",
      "17           18         audi              a6 quattro    4.2  2008    8   \n",
      "18           19    chevrolet      c1500 suburban 2wd    5.3  2008    8   \n",
      "19           20    chevrolet      c1500 suburban 2wd    5.3  2008    8   \n",
      "20           21    chevrolet      c1500 suburban 2wd    5.3  2008    8   \n",
      "21           22    chevrolet      c1500 suburban 2wd    5.7  1999    8   \n",
      "..          ...          ...                     ...    ...   ...  ...   \n",
      "153         154       nissan          pathfinder 4wd    5.6  2008    8   \n",
      "158         159      pontiac              grand prix    5.3  2008    8   \n",
      "178         179       toyota             4runner 4wd    4.7  2008    8   \n",
      "198         199       toyota  land cruiser wagon 4wd    4.7  1999    8   \n",
      "199         200       toyota  land cruiser wagon 4wd    5.7  2008    8   \n",
      "\n",
      "        trans drv  cty  hwy fl    class  \n",
      "17   auto(s6)   4   16   23  p  midsize  \n",
      "18   auto(l4)   r   14   20  r      suv  \n",
      "19   auto(l4)   r   11   15  e      suv  \n",
      "20   auto(l4)   r   14   20  r      suv  \n",
      "21   auto(l4)   r   13   17  r      suv  \n",
      "..        ...  ..  ...  ... ..      ...  \n",
      "153  auto(s5)   4   12   18  p      suv  \n",
      "158  auto(s4)   f   16   25  p  midsize  \n",
      "178  auto(l5)   4   14   17  r      suv  \n",
      "198  auto(l4)   4   11   15  r      suv  \n",
      "199  auto(s6)   4   13   18  r      suv  \n",
      "\n",
      "[70 rows x 12 columns])]\n"
     ]
    }
   ],
   "source": [
    "#This question is not done right now\n",
    "#Question no 5\n",
    "# function --> get_city_mpg_avg()\n",
    "# read file\n",
    "\n",
    "import pandas as pd\n",
    "data = pd.read_csv('mpg.csv')\n",
    "data.drop(['manufacturer','model','displ'],axis = 1)\n",
    "number_of_cylinders = data.groupby('cyl')\n",
    "#del number_of_cylinders['Unnamed','manufacturer']\n",
    "print(list(number_of_cylinders))\n"
   ]
  },
  {
   "cell_type": "markdown",
   "metadata": {},
   "source": [
    "Q6. Write a function find_indexes(list,int) takes a list and integer value, if the value exists in the list return the list containing all the index where that integer exists else return “value don’t exist”\n"
   ]
  },
  {
   "cell_type": "code",
   "execution_count": 67,
   "metadata": {
    "scrolled": true
   },
   "outputs": [
    {
     "name": "stdout",
     "output_type": "stream",
     "text": [
      "Values doesnt Exist\n"
     ]
    }
   ],
   "source": [
    "#Question no 6\n",
    "def find_indexes(mylist,int_val):\n",
    "    list_index = []\n",
    "    for i in range(len(mylist)):\n",
    "        if int_val in mylist:\n",
    "            index = mylist.index(int_val)\n",
    "            list_index.append(index)\n",
    "            mylist.pop(index)\n",
    "        else:\n",
    "            continue\n",
    "    if list_index:\n",
    "        return list_index\n",
    "    else:\n",
    "        return \"Values doesnt Exist\"\n",
    "   \n",
    "\n",
    "mylist = [1,2,3,4,5,1,2]\n",
    "int_val = 2\n",
    "print(find_indexes(mylist,int_val))"
   ]
  },
  {
   "cell_type": "code",
   "execution_count": 68,
   "metadata": {},
   "outputs": [
    {
     "data": {
      "text/plain": [
       "int"
      ]
     },
     "execution_count": 68,
     "metadata": {},
     "output_type": "execute_result"
    }
   ],
   "source": []
  },
  {
   "cell_type": "code",
   "execution_count": null,
   "metadata": {},
   "outputs": [],
   "source": []
  }
 ],
 "metadata": {
  "kernelspec": {
   "display_name": "Python 3",
   "language": "python",
   "name": "python3"
  },
  "language_info": {
   "codemirror_mode": {
    "name": "ipython",
    "version": 3
   },
   "file_extension": ".py",
   "mimetype": "text/x-python",
   "name": "python",
   "nbconvert_exporter": "python",
   "pygments_lexer": "ipython3",
   "version": "3.8.5"
  }
 },
 "nbformat": 4,
 "nbformat_minor": 4
}
