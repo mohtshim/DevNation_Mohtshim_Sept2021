{
 "cells": [
  {
   "cell_type": "code",
   "execution_count": 3,
   "metadata": {},
   "outputs": [
    {
     "name": "stdout",
     "output_type": "stream",
     "text": [
      "5\n"
     ]
    }
   ],
   "source": [
    "#Question no 1\n",
    "from datetime import date\n",
    "\n",
    "def get_date(number_of_days):\n",
    "    current_date = 9\n",
    "    if(number_of_days%2==0):\n",
    "        return current_date-number_of_days\n",
    "    else:\n",
    "        return current_date+number_of_days\n",
    "    \n",
    "print (get_date(4))"
   ]
  },
  {
   "cell_type": "code",
   "execution_count": 12,
   "metadata": {},
   "outputs": [
    {
     "name": "stdout",
     "output_type": "stream",
     "text": [
      "[['d', 'e', 'v', 'n', 'a', 't', 'i', 'o', 'n'], ['d', 'a', 't', 'a', ' ', 's', 'c', 'i', 'e', 'n', 'c', 'e'], ['r', 'e', 'q', 'u', 'i', 'r', 'e', 's'], ['d', 'e', 'd', 'i', 'c', 'a', 't', 'i', 'o', 'n']]\n"
     ]
    }
   ],
   "source": [
    "#Question no 2\n",
    "\n",
    "def Stringify(word):\n",
    "    text_list = list(word)\n",
    "    return text_list\n",
    "\n",
    "x = map(Stringify,('devnation', 'data science', 'requires', 'dedication'))\n",
    "print(list(x))"
   ]
  },
  {
   "cell_type": "code",
   "execution_count": 20,
   "metadata": {},
   "outputs": [
    {
     "name": "stdout",
     "output_type": "stream",
     "text": [
      "Element already in the list\n",
      "Element already in the list\n",
      "['F', 'f', 'B', 'b', 'A', 'a']\n"
     ]
    }
   ],
   "source": [
    "#Question no 3\n",
    "def Stringcase(mylist):\n",
    "    for i in range(len(mylist)):\n",
    "        tempchar = mylist[i]\n",
    "        if(tempchar.islower()):\n",
    "            captempchar = tempchar.upper()\n",
    "            mylistupdated.append(captempchar)\n",
    "            mylistupdated.append(tempchar)\n",
    "        else:\n",
    "            continue\n",
    "    return mylistupdated\n",
    "            \n",
    "mylist = ['f','b','a','a']\n",
    "mylistupdated = []\n",
    "Stringcase(mylist)\n",
    "unique_tuples = []\n",
    "#This unique code is taken from \n",
    "for i in mylistupdated:\n",
    "    if i not in unique_tuples:\n",
    "        unique_tuples.append(i)\n",
    "    else:\n",
    "        print (\"Element already in the list\")\n",
    "print(unique_tuples)"
   ]
  },
  {
   "cell_type": "code",
   "execution_count": 6,
   "metadata": {},
   "outputs": [
    {
     "name": "stdout",
     "output_type": "stream",
     "text": [
      "[<function str_join.<locals>.<lambda> at 0x0000016CC7180550>]\n"
     ]
    }
   ],
   "source": [
    "#Question no 4\n",
    "\n",
    "def str_join(mylist,word):\n",
    "    x = lambda mylist,word : mylist + word\n",
    "    return x\n",
    "    \n",
    "x = map(str_join,('a','b','c'),('@'))\n",
    "print(list(x))"
   ]
  },
  {
   "cell_type": "code",
   "execution_count": null,
   "metadata": {},
   "outputs": [],
   "source": [
    "#Question no 5"
   ]
  }
 ],
 "metadata": {
  "kernelspec": {
   "display_name": "Python 3",
   "language": "python",
   "name": "python3"
  },
  "language_info": {
   "codemirror_mode": {
    "name": "ipython",
    "version": 3
   },
   "file_extension": ".py",
   "mimetype": "text/x-python",
   "name": "python",
   "nbconvert_exporter": "python",
   "pygments_lexer": "ipython3",
   "version": "3.8.5"
  }
 },
 "nbformat": 4,
 "nbformat_minor": 4
}
