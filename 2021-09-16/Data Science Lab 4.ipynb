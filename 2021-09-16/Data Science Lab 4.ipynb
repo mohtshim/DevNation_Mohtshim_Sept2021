{
 "cells": [
  {
   "cell_type": "markdown",
   "metadata": {},
   "source": [
    "# Data Science Lab 4"
   ]
  },
  {
   "cell_type": "code",
   "execution_count": 67,
   "metadata": {},
   "outputs": [],
   "source": [
    "class Student:\n",
    "    def __init__(self,name,batch_no,address):\n",
    "        self.name = name\n",
    "        self.batch_no = batch_no\n",
    "        self.address = address\n",
    "        \n",
    "    def set_name(self,name: str):\n",
    "        self.name = name \n",
    "    \n",
    "    def set_batch_no(self,batch_no:int):\n",
    "        self.batch_no = batch_no\n",
    "        \n",
    "    def set_address(self, address:str):\n",
    "        self.address = address\n",
    "        \n",
    "    def get_name(self):\n",
    "        return self.name\n",
    "\n",
    "    def get_batch_no(self):\n",
    "        return self.batch_no\n",
    "    \n",
    "    def get_address(self):\n",
    "        return self.address\n",
    "    "
   ]
  },
  {
   "cell_type": "code",
   "execution_count": 68,
   "metadata": {},
   "outputs": [],
   "source": [
    "class DevnationStudents(Student):\n",
    "    def __init__(self,name,batch_no,address,course = [],marks = []):\n",
    "        super().__init__(name,batch_no,address)\n",
    "        self.course = course\n",
    "        self.marks = marks\n",
    "        \n",
    "    def set_addcourses(self,courses:list):\n",
    "        orig_courses = self.get_courses()\n",
    "        print(\"Original Courses are \",orig_courses)\n",
    "        print(\"Courses through set function is \",courses)\n",
    "    \n",
    "\n",
    "    def get_courses(self):\n",
    "        return self.course\n",
    "    "
   ]
  },
  {
   "cell_type": "code",
   "execution_count": 69,
   "metadata": {},
   "outputs": [
    {
     "name": "stdout",
     "output_type": "stream",
     "text": [
      "Original Courses are  ['physics', 'math']\n",
      "Courses through set function is  ['Data Science']\n"
     ]
    }
   ],
   "source": [
    "obj = DevnationStudents(\"Mohtshim\",1,\"Islamabad\",[\"physics\",\"math\"])\n",
    "obj.set_addcourses([\"Data Science\"])\n"
   ]
  },
  {
   "cell_type": "code",
   "execution_count": 45,
   "metadata": {},
   "outputs": [
    {
     "name": "stdout",
     "output_type": "stream",
     "text": [
      "Mohtshim\n"
     ]
    }
   ],
   "source": [
    "print(obj.name)"
   ]
  },
  {
   "cell_type": "code",
   "execution_count": null,
   "metadata": {},
   "outputs": [],
   "source": []
  }
 ],
 "metadata": {
  "kernelspec": {
   "display_name": "Python 3",
   "language": "python",
   "name": "python3"
  },
  "language_info": {
   "codemirror_mode": {
    "name": "ipython",
    "version": 3
   },
   "file_extension": ".py",
   "mimetype": "text/x-python",
   "name": "python",
   "nbconvert_exporter": "python",
   "pygments_lexer": "ipython3",
   "version": "3.8.5"
  }
 },
 "nbformat": 4,
 "nbformat_minor": 4
}
