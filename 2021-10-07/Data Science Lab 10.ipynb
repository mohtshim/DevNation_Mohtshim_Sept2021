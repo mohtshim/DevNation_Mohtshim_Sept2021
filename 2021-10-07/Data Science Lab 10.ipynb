{
 "cells": [
  {
   "cell_type": "markdown",
   "metadata": {},
   "source": [
    "# Data Science Lab 10"
   ]
  },
  {
   "cell_type": "code",
   "execution_count": 47,
   "metadata": {},
   "outputs": [],
   "source": [
    "class Node:\n",
    "    def __init__(self,data):\n",
    "        self.data = data\n",
    "        self.next = None"
   ]
  },
  {
   "cell_type": "code",
   "execution_count": 76,
   "metadata": {},
   "outputs": [],
   "source": [
    "class Circularlinkedlist:\n",
    "    def __init__(self):\n",
    "        self.head = None\n",
    "        self.tail = None\n",
    "    \n",
    "    def add_in_beginning(self,data):      \n",
    "        new_node = Node(data)\n",
    "        if self.head is None:\n",
    "            new_node.next = self.head\n",
    "            self.tail = new_node\n",
    "            \n",
    "        else:\n",
    "            new_node.next = self.head\n",
    "        self.head = new_node\n",
    "        self.tail.next = self.head\n",
    "        \n",
    "    def add_at_particular(self,data,index):\n",
    "        if(index <= -1):\n",
    "            print(\"Position is not valid\")\n",
    "            return\n",
    "        count = 0\n",
    "        node = self.head\n",
    "        while(count != index):\n",
    "            if(node.next == self.tail.next):\n",
    "                print(\"We reached the end of the list enter correct index\")\n",
    "                break\n",
    "            else:\n",
    "                node = node.next\n",
    "                count += 1\n",
    "        \n",
    "        new_node = Node(data)\n",
    "        temp = node.next\n",
    "        new_node.next = temp\n",
    "        node.next = new_node \n",
    "\n",
    "    def add_in_ending(self,data):\n",
    "        new_node = Node(data)\n",
    "        temp = self.tail\n",
    "        temp.next = new_node\n",
    "        self.tail = new_node\n",
    "        self.tail.next = self.head\n",
    "    \n",
    "    def print_list(self):\n",
    "        temp = self.head\n",
    "        #print(self.tail.next.data)\n",
    "        while(True):\n",
    "            print(str(temp.data) +\"-->\",end =\"\" )\n",
    "            temp  = temp.next\n",
    "            if(temp == self.head):\n",
    "                print(\"Back to head = \",self.tail.next.data)\n",
    "                break\n",
    "        "
   ]
  },
  {
   "cell_type": "code",
   "execution_count": 78,
   "metadata": {},
   "outputs": [
    {
     "name": "stdout",
     "output_type": "stream",
     "text": [
      "2-->5-->1-->6-->Back to head =  2\n"
     ]
    }
   ],
   "source": [
    "lnklist = Circularlinkedlist()\n",
    "lnklist.add_in_beginning(1)\n",
    "lnklist.add_in_beginning(2)\n",
    "lnklist.add_in_ending(6)\n",
    "lnklist.add_at_particular(5,0)\n",
    "lnklist.print_list()"
   ]
  },
  {
   "cell_type": "code",
   "execution_count": null,
   "metadata": {},
   "outputs": [],
   "source": []
  }
 ],
 "metadata": {
  "kernelspec": {
   "display_name": "Python 3",
   "language": "python",
   "name": "python3"
  },
  "language_info": {
   "codemirror_mode": {
    "name": "ipython",
    "version": 3
   },
   "file_extension": ".py",
   "mimetype": "text/x-python",
   "name": "python",
   "nbconvert_exporter": "python",
   "pygments_lexer": "ipython3",
   "version": "3.8.5"
  }
 },
 "nbformat": 4,
 "nbformat_minor": 4
}
