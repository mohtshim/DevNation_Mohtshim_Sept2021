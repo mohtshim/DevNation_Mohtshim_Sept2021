{
 "cells": [
  {
   "cell_type": "markdown",
   "metadata": {},
   "source": [
    "# Data Science Lab 7\n"
   ]
  },
  {
   "cell_type": "code",
   "execution_count": 1,
   "metadata": {},
   "outputs": [],
   "source": [
    "class Node():\n",
    "    def __init__(self,data):\n",
    "        self.data = data\n",
    "        self.next = None\n",
    "    \n"
   ]
  },
  {
   "cell_type": "code",
   "execution_count": 17,
   "metadata": {},
   "outputs": [],
   "source": [
    "class Linkedlist():\n",
    "    def __init__(self):\n",
    "        self.head = None\n",
    "        \n",
    "    def add_in_beginning(self,data):\n",
    "        new_node = Node(data)\n",
    "        new_node.next = self.head\n",
    "        self.head = new_node \n",
    "    \n",
    "    def add_at_particular(self,data,index):\n",
    "        if(index <= -1):\n",
    "            print(\"\")\n",
    "        count = 0\n",
    "        node = self.head\n",
    "        while(count != index):\n",
    "            if(node.next == None):\n",
    "                print(\"Position != LinkedList lenght\")\n",
    "            else:\n",
    "                node = node.next\n",
    "                count += 1\n",
    "        \n",
    "        new_node = Node(data)\n",
    "        temp = node.next\n",
    "        node.next = new_node\n",
    "        new_node.next = temp \n",
    "            \n",
    "    \n",
    "    def add_in_ending(self,data):\n",
    "        new_node = Node(data)\n",
    "        temp = self.head\n",
    "        while(temp.next):\n",
    "            temp = temp.next\n",
    "        temp.next = new_node\n",
    "                \n",
    "    \n",
    "    def print_list(self):\n",
    "        temp = self.head\n",
    "        while(temp):\n",
    "            print(str(temp.data) +\"-->\",end =\"\" )\n",
    "            temp  = temp.next\n",
    "        print(\"None\")\n",
    "    \n",
    "        \n",
    "        "
   ]
  },
  {
   "cell_type": "code",
   "execution_count": 19,
   "metadata": {},
   "outputs": [
    {
     "name": "stdout",
     "output_type": "stream",
     "text": [
      "4-->5-->3-->2-->1-->6-->None\n"
     ]
    }
   ],
   "source": [
    "lnklist = Linkedlist()\n",
    "lnklist.add_in_beginning(1)\n",
    "lnklist.add_in_beginning(2)\n",
    "lnklist.add_in_beginning(3)\n",
    "lnklist.add_in_beginning(4)\n",
    "lnklist.add_in_ending(6)\n",
    "lnklist.add_at_particular(5,0)\n",
    "lnklist.print_list()\n"
   ]
  },
  {
   "cell_type": "code",
   "execution_count": null,
   "metadata": {},
   "outputs": [],
   "source": []
  }
 ],
 "metadata": {
  "kernelspec": {
   "display_name": "Python 3",
   "language": "python",
   "name": "python3"
  },
  "language_info": {
   "codemirror_mode": {
    "name": "ipython",
    "version": 3
   },
   "file_extension": ".py",
   "mimetype": "text/x-python",
   "name": "python",
   "nbconvert_exporter": "python",
   "pygments_lexer": "ipython3",
   "version": "3.8.5"
  }
 },
 "nbformat": 4,
 "nbformat_minor": 4
}
