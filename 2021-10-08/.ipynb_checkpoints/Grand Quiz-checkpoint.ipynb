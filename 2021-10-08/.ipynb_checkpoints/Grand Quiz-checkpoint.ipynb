{
 "cells": [
  {
   "cell_type": "markdown",
   "metadata": {},
   "source": [
    "# Grand Quiz\n"
   ]
  },
  {
   "cell_type": "markdown",
   "metadata": {},
   "source": [
    "Question no 1"
   ]
  },
  {
   "cell_type": "code",
   "execution_count": 19,
   "metadata": {},
   "outputs": [
    {
     "name": "stdout",
     "output_type": "stream",
     "text": [
      "6\n",
      "Flag is True\n",
      "15\n"
     ]
    }
   ],
   "source": [
    "def add_numbers(x:int,y:int,flag:bool,z = None):\n",
    "    if z is None: #Initializing the z as NONE and implementing check on that \n",
    "        add = x+y\n",
    "    else:\n",
    "        add = z+x+y\n",
    "    if(flag == True):\n",
    "        print(\"Flag is True\")\n",
    "    return add\n",
    "\n",
    "print(add_numbers(1,5,flag =False))\n",
    "print(add_numbers(1,5,z=9,flag =True))\n",
    "    "
   ]
  },
  {
   "cell_type": "markdown",
   "metadata": {},
   "source": [
    "Question no 2"
   ]
  },
  {
   "cell_type": "code",
   "execution_count": 21,
   "metadata": {},
   "outputs": [
    {
     "name": "stdout",
     "output_type": "stream",
     "text": [
      "12\n"
     ]
    }
   ],
   "source": [
    "from datetime import date\n",
    "\n",
    "def get_datetime(number_of_days):\n",
    "    d =date.today()\n",
    "    current_date = d.day\n",
    "    if(number_of_days%2 == 0):\n",
    "        return current_date+number_of_days\n",
    "    elif (number_of_days%3 == 0):\n",
    "        return current_date-number_of_days\n",
    "    else:\n",
    "        return current_date\n",
    "    \n",
    "print(get_datetime(4))"
   ]
  },
  {
   "cell_type": "markdown",
   "metadata": {},
   "source": [
    "Question no 3"
   ]
  },
  {
   "cell_type": "code",
   "execution_count": 29,
   "metadata": {},
   "outputs": [
    {
     "name": "stdout",
     "output_type": "stream",
     "text": [
      "1\n",
      "hello\n",
      "3\n",
      "4\n"
     ]
    }
   ],
   "source": [
    "def concat_lst(lst1,lst2):\n",
    "    lst3 = []\n",
    "    for x in lst1:\n",
    "        lst3.append(x)\n",
    "    for x in lst2:\n",
    "        lst3.append(x)\n",
    "    mylist3 = list(dict.fromkeys(list3)) #Create a dictionary which have a list items as keys so duplicates not contains in dictioanry\n",
    "    return mylist3\n",
    "\n",
    "list1 = [1,\"hello\",3]\n",
    "list2 = [3,4]\n",
    "list3 = concat_lst(list1,list2)\n",
    "for x in list3:\n",
    "    print(x)\n",
    "        "
   ]
  },
  {
   "cell_type": "markdown",
   "metadata": {},
   "source": [
    "Question no 4"
   ]
  },
  {
   "cell_type": "code",
   "execution_count": 62,
   "metadata": {},
   "outputs": [
    {
     "name": "stdout",
     "output_type": "stream",
     "text": [
      "[['d', 'D'], ['e', 'E'], ['v', 'V'], ['n', 'N'], ['a', 'A'], ['t', 'T'], ['i', 'I'], ['o', 'O'], ['n', 'N']]\n"
     ]
    }
   ],
   "source": [
    "def string_case(word):\n",
    "    text_list = []\n",
    "    text_list.append(word.lower())\n",
    "    text_list.append(word.upper())\n",
    "    new_list = []\n",
    "    for elem in text_list:\n",
    "        if elem not in new_list:\n",
    "            new_list.append(elem)\n",
    "        else:\n",
    "            continue\n",
    "    text_list = new_list\n",
    "    return text_list\n",
    "\n",
    "x = map(string_case,\"devnation\")\n",
    "print(list(x))"
   ]
  },
  {
   "cell_type": "markdown",
   "metadata": {},
   "source": [
    "Question no 5"
   ]
  },
  {
   "cell_type": "code",
   "execution_count": 75,
   "metadata": {},
   "outputs": [
    {
     "name": "stdout",
     "output_type": "stream",
     "text": [
      "['6', '5', '8', '4']\n",
      "[('4', 21.012345679012345), ('5', 20.5), ('6', 16.21518987341772), ('8', 12.571428571428571)]\n"
     ]
    }
   ],
   "source": [
    "import csv\n",
    "def dist_cylinders(mpg):\n",
    "    cyl = []\n",
    "    for i in mpg:\n",
    "        cyl.append(i['cyl'])\n",
    "    \n",
    "    return list(set(cyl))\n",
    "\n",
    "def get_city_mpg_avg():\n",
    "    with open('mpg.csv') as csvfile:\n",
    "        mpg = list(csv.DictReader(csvfile))\n",
    "        \n",
    "    cyl = dist_cylinders(mpg)\n",
    "    print(cyl)\n",
    "    result = []\n",
    "    for c in cyl:\n",
    "        sum_of_mlg = 0\n",
    "        count_vech = 0\n",
    "        for i in mpg:\n",
    "            if i['cyl'] == c:\n",
    "                sum_of_mlg = sum_of_mlg + float(i['cty'])\n",
    "                count_vech += 1\n",
    "        result.append((c,sum_of_mlg/count_vech))\n",
    "    return result\n",
    "\n",
    "result = get_city_mpg_avg()\n",
    "result.sort(key=lambda x:x[0])\n",
    "print(result)"
   ]
  },
  {
   "cell_type": "markdown",
   "metadata": {},
   "source": [
    "Question no 6"
   ]
  },
  {
   "cell_type": "code",
   "execution_count": 81,
   "metadata": {},
   "outputs": [
    {
     "name": "stdout",
     "output_type": "stream",
     "text": [
      "['2seater', 'suv', 'subcompact', 'compact', 'midsize', 'minivan', 'pickup']\n",
      "[('pickup', 16.87878787878788), ('suv', 18.129032258064516), ('minivan', 22.363636363636363), ('2seater', 24.8), ('midsize', 27.29268292682927), ('subcompact', 28.142857142857142), ('compact', 28.29787234042553)]\n"
     ]
    }
   ],
   "source": [
    "import csv\n",
    "def dist_class(mpg):\n",
    "    vehicle = []\n",
    "    for i in mpg:\n",
    "        vehicle.append(i['class'])\n",
    "    return list(set(vehicle))\n",
    "\n",
    "def get_hwy_mpg_avg():\n",
    "    with open('mpg.csv') as csvfile:\n",
    "        mpg = list(csv.DictReader(csvfile))\n",
    "        \n",
    "    vehicles_names = dist_class(mpg)\n",
    "    print(vehicles_names)\n",
    "    result = []\n",
    "    for c in vehicles_names:\n",
    "        sum_of_hwy = 0\n",
    "        count_vech = 0\n",
    "        for i in mpg:\n",
    "            if i['class'] == c:\n",
    "                sum_of_hwy = sum_of_hwy + float(i['hwy'])\n",
    "                count_vech += 1\n",
    "        result.append((c,sum_of_hwy/count_vech))\n",
    "    return result\n",
    "          \n",
    "result =get_hwy_mpg_avg()\n",
    "result.sort(key=lambda x:x[1]) \n",
    "print(result)"
   ]
  },
  {
   "cell_type": "markdown",
   "metadata": {},
   "source": [
    "Question no 7"
   ]
  },
  {
   "cell_type": "code",
   "execution_count": 135,
   "metadata": {},
   "outputs": [],
   "source": [
    "class Student:\n",
    "    def __new__(cls,name,batch_no,address,age,father_name,city):\n",
    "        if(age>18):\n",
    "            print(\"Student of age 18 greater than is not allowed in the school\")\n",
    "        else:\n",
    "            age = object.__new__(cls)\n",
    "            return age\n",
    "        if(city != 'Lahore' or city != 'Islamabad' or city != 'Faisalabad' or city != 'Karachi' ):\n",
    "            print(\"This city is not allowed\")\n",
    "        else:\n",
    "            city = object.__new__(cls)\n",
    "            return city\n",
    "    \n",
    "    def __init__(self,name,batch_no,address,age,father_name,city):\n",
    "        self.name = name\n",
    "        self.batch_no = batch_no\n",
    "        self.address = address\n",
    "        self.age = age\n",
    "        self.father_name = father_name\n",
    "        self.city = city\n",
    "        \n",
    "    def set_name(self,name:str):\n",
    "        self.name = name \n",
    "    def set_batch_no(self,batch_no:int):\n",
    "        self.batch_no = batch_no\n",
    "    def set_address(self,address:str):\n",
    "        self.address = address\n",
    "    def set_age(self,age: int):\n",
    "        self.age = age\n",
    "    def set_father_name(self,father_name):\n",
    "        self.father_name = father_name\n",
    "    def set_city(self,city):\n",
    "        self.city = city\n",
    "        \n",
    "    def get_name(self):\n",
    "        return self.name \n",
    "    def get_batch_no(self):\n",
    "        return self.batch_no\n",
    "    def get_address(self):\n",
    "        return self.address\n",
    "    def get_age(self):\n",
    "        return self.age\n",
    "    def get_father_name(self):\n",
    "        return self.father_name\n",
    "    def get_city(self):\n",
    "        return self.city\n",
    "    def display(self):\n",
    "        print(\"I am here\")\n",
    "    \n",
    "class DevnationStudents(Student):\n",
    "    def __init__(self,name,batch_no,address,age,father_name,city,course = [],marks = [{}]):\n",
    "        super().__init__(name,batch_no,address,age,father_name,city)\n",
    "        self.course = course\n",
    "        self.marks = marks\n",
    "        \n",
    "    def set_add_courses(self,courses:list):\n",
    "        orig_courses = self.get_courses()\n",
    "        final_list = orig_courses + list(set(courses) - set(orig_courses))\n",
    "        self.course = final_list\n",
    "        \n",
    "    def set_add_courses_marks(self,courses_marks = [{}]):\n",
    "        result = [{}]\n",
    "        for i in range(0,len(courses_marks)):\n",
    "            if courses_marks[i]['course'] in self.get_courses():    #Checking if the course present in the Courses list\n",
    "                result.append(courses_marks[i])\n",
    "            else:\n",
    "                 print(\"Course doesnt exist in courses List Please add it in Courses\")\n",
    "        #For the duplication of the marks_list is not done\n",
    "\n",
    "    def get_courses(self):\n",
    "        return self.course\n",
    "    \n",
    "    def get_courses_marks(self):\n",
    "        return self.marks\n",
    "    "
   ]
  },
  {
   "cell_type": "code",
   "execution_count": 136,
   "metadata": {},
   "outputs": [
    {
     "data": {
      "text/plain": [
       "'Mohtshim'"
      ]
     },
     "execution_count": 136,
     "metadata": {},
     "output_type": "execute_result"
    }
   ],
   "source": [
    "#obj = DevnationStudents(\"Mohtshim\",1,\"rawalpindi\",17,\"Sanaullah\",\"Punjab\")\n",
    "#obj2 = DevnationStudents(\"Mohtshim\",1,\"rawalpindi\",20,\"Sanaullah\",\"Islamabad\")\n",
    "obj3 = DevnationStudents(\"Mohtshim\",1,\"rawalpindi\",17,\"Sanaullah\",\"Islamabad\")\n",
    "obj3.get_name()"
   ]
  },
  {
   "cell_type": "markdown",
   "metadata": {},
   "source": [
    "Question no 8"
   ]
  },
  {
   "cell_type": "code",
   "execution_count": 139,
   "metadata": {},
   "outputs": [
    {
     "name": "stdout",
     "output_type": "stream",
     "text": [
      "[0, 1]\n",
      "[1, 2]\n"
     ]
    }
   ],
   "source": [
    "def get_indices(lst , target):\n",
    "    for i in range(0,len(lst)):\n",
    "        for j in range(0,len(lst)):\n",
    "            if(i == j):\n",
    "                pass\n",
    "            else:\n",
    "                if(lst[i]+lst[j] == target):\n",
    "                    ret_list = []\n",
    "                    ret_list.append(i)\n",
    "                    ret_list.append(j)\n",
    "                    return ret_list\n",
    "num = [2,7,11,15]\n",
    "target = 9\n",
    "print(get_indices(num,target))\n",
    "\n",
    "nums = [3,2,4]\n",
    "target = 6\n",
    "print(get_indices(nums,target))"
   ]
  },
  {
   "cell_type": "markdown",
   "metadata": {},
   "source": [
    "Question no 9"
   ]
  },
  {
   "cell_type": "code",
   "execution_count": 140,
   "metadata": {},
   "outputs": [
    {
     "name": "stdout",
     "output_type": "stream",
     "text": [
      "8465\n"
     ]
    }
   ],
   "source": [
    "def backwards(num):\n",
    "    rev = 0\n",
    "    while(num > 0):\n",
    "        a = num % 10\n",
    "        rev = rev * 10 + a\n",
    "        num = num // 10\n",
    "    return print(rev)\n",
    "backwards(5648)"
   ]
  },
  {
   "cell_type": "markdown",
   "metadata": {},
   "source": [
    "Question no 10"
   ]
  },
  {
   "cell_type": "code",
   "execution_count": 141,
   "metadata": {},
   "outputs": [
    {
     "name": "stdout",
     "output_type": "stream",
     "text": [
      "[1, 3, 4, 5]\n"
     ]
    }
   ],
   "source": [
    "def remove_duplication(lst):\n",
    "    ret_lst = []\n",
    "    for element in lst:\n",
    "        if element not in ret_lst:\n",
    "            ret_lst.append(element)\n",
    "    return ret_lst\n",
    "\n",
    "lst1 = [1,1,3,4,5,5]\n",
    "lst2 = remove_duplication(lst1)\n",
    "print(lst2)"
   ]
  },
  {
   "cell_type": "code",
   "execution_count": null,
   "metadata": {},
   "outputs": [],
   "source": []
  }
 ],
 "metadata": {
  "kernelspec": {
   "display_name": "Python 3",
   "language": "python",
   "name": "python3"
  },
  "language_info": {
   "codemirror_mode": {
    "name": "ipython",
    "version": 3
   },
   "file_extension": ".py",
   "mimetype": "text/x-python",
   "name": "python",
   "nbconvert_exporter": "python",
   "pygments_lexer": "ipython3",
   "version": "3.8.5"
  }
 },
 "nbformat": 4,
 "nbformat_minor": 4
}
